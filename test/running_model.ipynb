{
  "metadata": {
    "kernelspec": {
      "language": "python",
      "display_name": "Python 3",
      "name": "python3"
    },
    "language_info": {
      "name": "python",
      "version": "3.10.12",
      "mimetype": "text/x-python",
      "codemirror_mode": {
        "name": "ipython",
        "version": 3
      },
      "pygments_lexer": "ipython3",
      "nbconvert_exporter": "python",
      "file_extension": ".py"
    },
    "kaggle": {
      "accelerator": "none",
      "dataSources": [],
      "isInternetEnabled": true,
      "language": "python",
      "sourceType": "notebook",
      "isGpuEnabled": false
    },
    "colab": {
      "provenance": []
    }
  },
  "nbformat_minor": 0,
  "nbformat": 4,
  "cells": [
    {
      "cell_type": "code",
      "source": [
        "!ls ../../.."
      ],
      "metadata": {
        "id": "lw5hWsmdB5QT",
        "_kg_hide-output": false,
        "trusted": true
      },
      "execution_count": null,
      "outputs": []
    },
    {
      "cell_type": "code",
      "source": [
        "!pip install tensorflow-object-detection-api"
      ],
      "metadata": {
        "id": "xtRMpbszCIN5",
        "trusted": true
      },
      "execution_count": null,
      "outputs": []
    },
    {
      "cell_type": "code",
      "source": [
        "import tensorflow as tf\n",
        "print(tf.__version__)"
      ],
      "metadata": {
        "id": "0_BVaIP_CkVG",
        "trusted": true
      },
      "execution_count": null,
      "outputs": []
    },
    {
      "cell_type": "code",
      "source": [
        "!git clone https://github.com/tensorflow/models"
      ],
      "metadata": {
        "id": "M0lWrLwVCooU",
        "trusted": true
      },
      "execution_count": null,
      "outputs": []
    },
    {
      "cell_type": "code",
      "source": [
        "%cd /kaggle/working/\n",
        "!wget http://download.tensorflow.org/models/object_detection/tf2/20200711/ssd_resnet101_v1_fpn_640x640_coco17_tpu-8.tar.gz\n",
        "!tar -xvf ssd_resnet101_v1_fpn_640x640_coco17_tpu-8.tar.gz\n",
        "!rm ssd_resnet101_v1_fpn_640x640_coco17_tpu-8.tar.gz"
      ],
      "metadata": {
        "id": "6Zh5JTKyFJ8r",
        "trusted": true
      },
      "execution_count": null,
      "outputs": []
    },
    {
      "cell_type": "code",
      "source": [
        "%cd /kaggle/working/models/research\n",
        "!protoc object_detection/protos/*.proto --python_out=.\n",
        "# Install TensorFlow Object Detection API.\n",
        "!cp object_detection/packages/tf2/setup.py .\n",
        "!python -m pip install .\n",
        "!pip install tensorflow==2.13.0"
      ],
      "metadata": {
        "id": "L6WGacceIRAG",
        "trusted": true
      },
      "execution_count": null,
      "outputs": []
    },
    {
      "cell_type": "code",
      "source": [
        "!python /kaggle/working/models/research/object_detection/builders/model_builder_tf2_test.py"
      ],
      "metadata": {
        "id": "6Uc2JSq6IaQI",
        "trusted": true
      },
      "execution_count": null,
      "outputs": []
    },
    {
      "cell_type": "code",
      "source": [
        "!pip install wget"
      ],
      "metadata": {
        "id": "aaLKjpJXIhZ0",
        "trusted": true
      },
      "execution_count": null,
      "outputs": []
    },
    {
      "cell_type": "code",
      "source": [
        "!wget https://raw.githubusercontent.com/tensorflow/models/master/research/object_detection/configs/tf2/ssd_resnet101_v1_fpn_640x640_coco17_tpu-8.config\n",
        "!mv ssd_resnet101_v1_fpn_640x640_coco17_tpu-8.config /kaggle/working/ssd_resnet101.config"
      ],
      "metadata": {
        "id": "ypYQ1Pk1Inng",
        "trusted": true
      },
      "execution_count": null,
      "outputs": []
    },
    {
      "cell_type": "code",
      "source": [
        "num_classes = 12\n",
        "batch_size = 4\n",
        "num_steps = 20000\n",
        "num_eval_steps = 1000\n",
        "\n",
        "train_record_path = '/kaggle/input/tfrecord/train.tfrecord'\n",
        "test_record_path = '/kaggle/input/tfrecord/test.tfrecord'\n",
        "model_dir = '/kaggle/working/training/'\n",
        "labelmap_path = '/kaggle/input/labelmap/labelmap.pbtxt'\n",
        "\n",
        "pipeline_config_path = '/kaggle/working/ssd_resnet101.config'\n",
        "fine_tune_checkpoint = '/kaggle/working/ssd_resnet101_v1_fpn_640x640_coco17_tpu-8/checkpoint/ckpt-0'"
      ],
      "metadata": {
        "trusted": true,
        "id": "tmIXyTCsK-rq"
      },
      "execution_count": null,
      "outputs": []
    },
    {
      "cell_type": "code",
      "source": [
        "import re\n",
        "\n",
        "with open(pipeline_config_path) as f:\n",
        "    config = f.read()\n",
        "\n",
        "with open(pipeline_config_path, 'w') as f:\n",
        "\n",
        "    # Set labelmap path\n",
        "    config = re.sub('label_map_path: \".*?\"',\n",
        "                  'label_map_path: \"{}\"'.format(labelmap_path), config)\n",
        "\n",
        "    # Set fine_tune_checkpoint path\n",
        "    config = re.sub('fine_tune_checkpoint: \".*?\"',\n",
        "                  'fine_tune_checkpoint: \"{}\"'.format(fine_tune_checkpoint), config)\n",
        "\n",
        "    # Set fine_tune_checkpoint typr\n",
        "    config = re.sub('fine_tune_checkpoint_type: \".*?\"',\n",
        "                  'fine_tune_checkpoint_type: \"{}\"'.format('detection'), config)\n",
        "\n",
        "    # Set train tf-record file path\n",
        "    config = re.sub('(input_path: \".*?)(PATH_TO_BE_CONFIGURED/train)(.*?\")',\n",
        "                  'input_path: \"{}\"'.format(train_record_path), config)\n",
        "\n",
        "    # Set test tf-record file path\n",
        "    config = re.sub('(input_path: \".*?)(PATH_TO_BE_CONFIGURED/val)(.*?\")',\n",
        "                  'input_path: \"{}\"'.format(test_record_path), config)\n",
        "\n",
        "    # Set number of classes.\n",
        "    config = re.sub('num_classes: [0-9]+',\n",
        "                  'num_classes: {}'.format(num_classes), config)\n",
        "\n",
        "    # Set batch size\n",
        "    config = re.sub('batch_size: [0-9]+',\n",
        "                  'batch_size: {}'.format(batch_size), config)\n",
        "\n",
        "    # Set training steps\n",
        "    config = re.sub('num_steps: [0-9]+',\n",
        "                  'num_steps: {}'.format(num_steps), config)\n",
        "\n",
        "    # Set learning rate\n",
        "   # config = re.sub('learning_rate_base: [.0-9]+',\n",
        "    #              'learning_rate_base: {}'.format(learning_rate), config)\n",
        "\n",
        "    f.write(config)"
      ],
      "metadata": {
        "id": "Iho0suoMKRn0",
        "trusted": true
      },
      "execution_count": null,
      "outputs": []
    },
    {
      "cell_type": "code",
      "source": [
        "import re\n",
        "\n",
        "# Hapus seluruh blok konfigurasi optimizer momentum\n",
        "config = re.sub(r'optimizer\\s*{[^}]*}', '', config)\n",
        "\n",
        "    # Pengaturan optimizer Adam yang akan digunakan\n",
        "rms_prop_optimizer_config = \"\"\"\n",
        "    optimizer {\n",
        "      rms_prop_optimizer: {\n",
        "        learning_rate: {\n",
        "          cosine_decay_learning_rate {\n",
        "            learning_rate: 0.001  # Sesuaikan dengan kebutuhan Anda\n",
        "          }\n",
        "        }\n",
        "      }\n",
        "      use_moving_average: false\n",
        "    }\n",
        "    \"\"\"\n",
        "\n",
        "    # Gabungkan pengaturan optimizer Adam dengan konfigurasi yang ada\n",
        "config += rms_prop_optimizer_config\n",
        "\n",
        "print(config)"
      ],
      "metadata": {
        "trusted": true,
        "id": "nowJPI3sK-rv"
      },
      "execution_count": null,
      "outputs": []
    },
    {
      "cell_type": "code",
      "source": [
        "!python /kaggle/working/models/research/object_detection/model_main_tf2.py \\\n",
        "    --pipeline_config_path={pipeline_config_path} \\\n",
        "    --model_dir={model_dir} \\\n",
        "    --alsologtostderr \\\n",
        "    --num_train_steps={num_steps} \\\n",
        "    --sample_1_of_n_eval_examples=1 \\\n",
        "    #--checkpoint_every_n=100 \\\n",
        "    --num_eval_steps={num_eval_steps}"
      ],
      "metadata": {
        "id": "4Uv2-zruJ1u6",
        "trusted": true
      },
      "execution_count": null,
      "outputs": []
    },
    {
      "cell_type": "code",
      "source": [
        "!python /kaggle/working/models/research/object_detection/model_main_tf2.py \\\n",
        "    --pipeline_config_path={pipeline_config_path} \\\n",
        "    --model_dir={model_dir} \\\n",
        "    --checkpoint_dir={model_dir}"
      ],
      "metadata": {
        "id": "2u4SQOjjiFNt",
        "trusted": true
      },
      "execution_count": null,
      "outputs": []
    },
    {
      "cell_type": "code",
      "source": [
        "output_directory = '/kaggle/working/inference_graph'\n",
        "\n",
        "!python /kaggle/working/models/research/object_detection/exporter_main_v2.py \\\n",
        "    --trained_checkpoint_dir={model_dir} \\\n",
        "    --output_directory={output_directory} \\\n",
        "    --pipeline_config_path={pipeline_config_path}"
      ],
      "metadata": {
        "id": "rM6Opm4diIGu",
        "trusted": true
      },
      "execution_count": null,
      "outputs": []
    },
    {
      "cell_type": "code",
      "source": [
        "!python /kaggle/working/models/research/object_detection/export_tflite_graph_tf2.py \\\n",
        "    --pipeline_config_path={pipeline_config_path} \\\n",
        "    --trained_checkpoint_dir /kaggle/working/training \\\n",
        "    --output_directory /kaggle/working/inference_graph_tflite"
      ],
      "metadata": {
        "id": "mG9pjeU_iLTx",
        "trusted": true
      },
      "execution_count": null,
      "outputs": []
    },
    {
      "cell_type": "code",
      "source": [
        "%cd /kaggle/working/inference_graph_tflite\n",
        "import tensorflow as tf\n",
        "\n",
        "converter = tf.lite.TFLiteConverter.from_saved_model('/kaggle/working/inference_graph_tflite/saved_model') # path to the SavedModel directory\n",
        "converter.optimizations = [tf.lite.Optimize.DEFAULT]\n",
        "\n",
        "tflite_model = converter.convert()\n",
        "# Save the TensorFlow Lite model to a file\n",
        "with open('model17.tflite', 'wb') as f:\n",
        "    f.write(tflite_model)"
      ],
      "metadata": {
        "trusted": true,
        "id": "z4LJwBv1K-r7"
      },
      "execution_count": null,
      "outputs": []
    }
  ]
}